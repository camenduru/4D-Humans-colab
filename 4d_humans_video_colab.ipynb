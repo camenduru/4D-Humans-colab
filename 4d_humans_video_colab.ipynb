{
  "cells": [
    {
      "cell_type": "markdown",
      "metadata": {
        "id": "view-in-github"
      },
      "source": [
        "[![Open In Colab](https://colab.research.google.com/assets/colab-badge.svg)](https://colab.research.google.com/github/camenduru/4D-Humans-colab/blob/main/4d_humans_video_colab.ipynb)"
      ]
    },
    {
      "cell_type": "code",
      "execution_count": null,
      "metadata": {
        "id": "VjYy0F2gZIPR"
      },
      "outputs": [],
      "source": [
        "%cd /content\n",
        "!apt -y install -qq aria2\n",
        "!aria2c --console-log-level=error -c -x 16 -s 16 -k 1M https://huggingface.co/camenduru/4D-Humans/resolve/main/hmr2_data.tar.gz -d /root/.cache/4DHumans -o hmr2_data.tar.gz\n",
        "!tar -xvf /root/.cache/4DHumans/hmr2_data.tar.gz -C /root/.cache/4DHumans\n",
        "!git clone -b v1.0 https://github.com/camenduru/4D-Humans\n",
        "!pip install -q https://github.com/camenduru/wheels/releases/download/colab/detectron2-0.6-cp310-cp310-linux_x86_64.whl\n",
        "!pip install -q gradio yacs smplx==0.1.28 pytorch-lightning pyrender timm einops\n",
        "!pip install -q git+https://github.com/camenduru/PHALP@v1.0"
      ]
    },
    {
      "cell_type": "code",
      "execution_count": null,
      "metadata": {},
      "outputs": [],
      "source": [
        "%cd /content/4D-Humans\n",
        "!python track.py video.source=\"https://www.youtube.com/watch?v=xEH_5T9jMVU\""
      ]
    },
    {
      "cell_type": "code",
      "execution_count": null,
      "metadata": {},
      "outputs": [],
      "source": [
        "!aria2c --console-log-level=error -c -x 16 -s 16 -k 1M https://huggingface.co/camenduru/phalp/resolve/main/input.mp4 -d /content -o input.mp4\n",
        "%cd /content/4D-Humans\n",
        "!python track.py video.source=\"/content/input.mp4\""
      ]
    }
  ],
  "metadata": {
    "accelerator": "GPU",
    "colab": {
      "gpuType": "T4",
      "provenance": []
    },
    "kernelspec": {
      "display_name": "Python 3",
      "name": "python3"
    },
    "language_info": {
      "name": "python"
    }
  },
  "nbformat": 4,
  "nbformat_minor": 0
}

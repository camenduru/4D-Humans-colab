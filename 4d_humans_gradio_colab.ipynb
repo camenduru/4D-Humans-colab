{
  "cells": [
    {
      "cell_type": "markdown",
      "metadata": {
        "id": "view-in-github"
      },
      "source": [
        "[![Open In Colab](https://colab.research.google.com/assets/colab-badge.svg)](https://colab.research.google.com/github/camenduru/4D-Humans-colab/blob/main/4d_humans_gradio_colab.ipynb)"
      ]
    },
    {
      "cell_type": "code",
      "execution_count": null,
      "metadata": {
        "id": "VjYy0F2gZIPR"
      },
      "outputs": [],
      "source": [
        "%cd /content\n",
        "\n",
        "!apt -y install -qq aria2\n",
        "\n",
        "!git clone -b dev https://github.com/camenduru/HMR2.0-hf\n",
        "%cd /content/HMR2.0-hf\n",
        "\n",
        "!aria2c --console-log-level=error -c -x 16 -s 16 -k 1M https://huggingface.co/camenduru/4D-Humans/resolve/main/HMR2/assets/test1.png -d /content/HMR2.0-hf/assets -o test1.png\n",
        "!aria2c --console-log-level=error -c -x 16 -s 16 -k 1M https://huggingface.co/camenduru/4D-Humans/resolve/main/HMR2/logs/train/multiruns/hmr2/0/checkpoints/epoch%3D35-step%3D1000000.ckpt -d /content/HMR2.0-hf/logs/train/multiruns/hmr2/0/checkpoints -o epoch=35-step=1000000.ckpt\n",
        "!aria2c --console-log-level=error -c -x 16 -s 16 -k 1M https://huggingface.co/camenduru/4D-Humans/resolve/main/HMR2/data/smpl_mean_params.npz -d /content/HMR2.0-hf/data -o smpl_mean_params.npz\n",
        "!aria2c --console-log-level=error -c -x 16 -s 16 -k 1M https://huggingface.co/camenduru/4D-Humans/resolve/main/HMR2/data/SMPL_to_J19.pkl -d /content/HMR2.0-hf/data -o SMPL_to_J19.pkl\n",
        "!aria2c --console-log-level=error -c -x 16 -s 16 -k 1M https://huggingface.co/camenduru/4D-Humans/resolve/main/HMR2/data/smpl/basicModel_neutral_lbs_10_207_0_v1.0.0.pkl -d /content/HMR2.0-hf/data/smpl -o basicModel_neutral_lbs_10_207_0_v1.0.0.pkl\n",
        "!aria2c --console-log-level=error -c -x 16 -s 16 -k 1M https://huggingface.co/camenduru/4D-Humans/resolve/main/HMR2/data/smpl/SMPL_NEUTRAL.pkl -d /content/HMR2.0-hf/data/smpl -o SMPL_NEUTRAL.pkl\n",
        "!aria2c --console-log-level=error -c -x 16 -s 16 -k 1M https://huggingface.co/camenduru/4D-Humans/resolve/main/HMR2/data/smpl/SMPL_MALE.pkl -d /content/HMR2.0-hf/data/smpl -o SMPL_MALE.pkl\n",
        "!aria2c --console-log-level=error -c -x 16 -s 16 -k 1M https://huggingface.co/camenduru/4D-Humans/resolve/main/HMR2/data/smpl/SMPL_FEMALE.pkl -d /content/HMR2.0-hf/data/smpl -o SMPL_FEMALE.pkl\n",
        "!aria2c --console-log-level=error -c -x 16 -s 16 -k 1M https://huggingface.co/camenduru/4D-Humans/resolve/main/HMR2/data/smpl/priors/gmm_08.pkl -d /content/HMR2.0-hf/data/smpl -o gmm_08.pkl\n",
        "!aria2c --console-log-level=error -c -x 16 -s 16 -k 1M https://huggingface.co/camenduru/4D-Humans/resolve/main/model_final_f05665.pkl -d /root/.torch/iopath_cache/detectron2/ViTDet/COCO/cascade_mask_rcnn_vitdet_h/f328730692/ -o model_final_f05665.pkl\n",
        "\n",
        "!pip install gradio yacs smplx==0.1.28 pytorch-lightning pyrender timm einops\n",
        "!pip install https://github.com/camenduru/wheels/releases/download/colab/detectron2-0.6-cp310-cp310-linux_x86_64.whl\n",
        "\n",
        "import os\n",
        "os.environ[\"PYOPENGL_PLATFORM\"] = \"egl\"\n",
        "os.environ[\"MESA_GL_VERSION_OVERRIDE\"] = \"4.1\"\n",
        "\n",
        "# !python app_mesh.py\n",
        "!python app.py"
      ]
    }
  ],
  "metadata": {
    "accelerator": "GPU",
    "colab": {
      "gpuType": "T4",
      "provenance": []
    },
    "kernelspec": {
      "display_name": "Python 3",
      "name": "python3"
    },
    "language_info": {
      "name": "python"
    }
  },
  "nbformat": 4,
  "nbformat_minor": 0
}
